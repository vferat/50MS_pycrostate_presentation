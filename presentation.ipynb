{
  "cells": [
    {
      "cell_type": "code",
      "execution_count": null,
      "metadata": {
        "collapsed": false
      },
      "outputs": [],
      "source": [
        "%matplotlib inline"
      ]
    },
    {
      "cell_type": "markdown",
      "metadata": {},
      "source": [
        "\n# The ModKmeans object\n\nThis tutorial introduces the :class:`pycrostates.clustering.ModKMeans`\nstructure in detail.\n"
      ]
    },
    {
      "cell_type": "markdown",
      "metadata": {},
      "source": [
        "<div class=\"alert alert-info\"><h4>Note</h4><p>The lemon datasets is composed of EEGLAB files. To use the MNE reader\n    :func:`mne.io.read_raw_eeglab`, the ``pymatreader`` optional dependency\n    is required. Use the following installation method appropriate for your\n    environment:\n\n    - ``pip install pymatreader``\n    - ``conda install -c conda-forge pymatreader``\n\n    Note that an environment created via the MNE installers includes\n    ``pymatreader`` by default.</p></div>\n\n"
      ]
    },
    {
      "cell_type": "code",
      "execution_count": null,
      "metadata": {
        "collapsed": false
      },
      "outputs": [],
      "source": [
        "from mne.io import read_raw_eeglab\n\nfrom pycrostates.cluster import ModKMeans\nfrom pycrostates.datasets import lemon\n\n\nraw_fname = lemon.data_path(subject_id='010017', condition='EC')\nraw = read_raw_eeglab(raw_fname, preload=True)\nraw.crop(0, 30)\n\nraw.pick('eeg')\nraw.set_eeg_reference('average')"
      ]
    },
    {
      "cell_type": "markdown",
      "metadata": {},
      "source": [
        "The modified Kmeans can be instantiated with the number of cluster centers\n``n_clusters`` to compute. By default, the modified Kmeans will only work\nwith EEG data, but this can be modified thanks to the ``picks`` parameter.\nA random_state can be defined during class definition in order to have\nreproducible results.\n\n"
      ]
    },
    {
      "cell_type": "code",
      "execution_count": null,
      "metadata": {
        "collapsed": false
      },
      "outputs": [],
      "source": [
        "n_clusters = 5\nModK = ModKMeans(n_clusters=n_clusters, random_state=42)"
      ]
    },
    {
      "cell_type": "markdown",
      "metadata": {},
      "source": [
        "Most methods need the modified Kmeans to be fitted. This can be done with\neither :class:`mne.io.Raw` or :class:`mne.epochs.Epochs` data structures.\nNote that, depending on your setup, you can change ``n_jobs=1`` in order to\nuse parallel processing and reduce computation time.\n\n"
      ]
    },
    {
      "cell_type": "code",
      "execution_count": null,
      "metadata": {
        "collapsed": false
      },
      "outputs": [],
      "source": [
        "ModK.fit(raw, n_jobs=5)"
      ]
    },
    {
      "cell_type": "markdown",
      "metadata": {},
      "source": [
        "Now that our algorithm is fitted, we can visualize the cluster centers, also\ncalled microstate maps or microstate topographies using :meth:`ModK.plot`.\nNote than this method uses the :class:`~mne.Info` object of the fitted\ninstance to display the topographies.\n\n"
      ]
    },
    {
      "cell_type": "code",
      "execution_count": null,
      "metadata": {
        "collapsed": false
      },
      "outputs": [],
      "source": [
        "ModK.plot()"
      ]
    },
    {
      "cell_type": "markdown",
      "metadata": {},
      "source": [
        "One can access the cluster centers as a numpy array thanks to the\n``cluster_centers_`` attribute:\n\n"
      ]
    },
    {
      "cell_type": "code",
      "execution_count": null,
      "metadata": {
        "collapsed": false
      },
      "outputs": [],
      "source": [
        "ModK.cluster_centers_"
      ]
    },
    {
      "cell_type": "markdown",
      "metadata": {},
      "source": [
        "Clusters centers can be reordered using :meth:`ModK.reorder_clusters`:\n\n"
      ]
    },
    {
      "cell_type": "code",
      "execution_count": null,
      "metadata": {
        "collapsed": false
      },
      "outputs": [],
      "source": [
        "ModK.reorder_clusters(order=[3, 2, 4, 0, 1])\nModK.plot()"
      ]
    },
    {
      "cell_type": "markdown",
      "metadata": {},
      "source": [
        "and renamed using :meth:`ModK.rename_clusters`:\n\n"
      ]
    },
    {
      "cell_type": "code",
      "execution_count": null,
      "metadata": {
        "collapsed": false
      },
      "outputs": [],
      "source": [
        "ModK.rename_clusters(new_names=['A', 'B', 'C', 'D', 'F'])\nModK.plot()"
      ]
    },
    {
      "cell_type": "markdown",
      "metadata": {},
      "source": [
        "Maps polarities can be inverted thanks to :meth:`ModK.invert_polarity`\nmethod. Note that it only affects visualization, it has not effect during\nbackfitting as polarities are ignored.\n\n"
      ]
    },
    {
      "cell_type": "code",
      "execution_count": null,
      "metadata": {
        "collapsed": false
      },
      "outputs": [],
      "source": [
        "ModK.invert_polarity([False, False, True, True, False])\nModK.plot()"
      ]
    },
    {
      "cell_type": "markdown",
      "metadata": {},
      "source": [
        "Finally, the modified Kmeans can be used to predict the microstates\nsegmentation using the :meth:`ModK.predict` method. By default, segments\nannotated as bad will not be labeled, but this behavior can be changed with\nthe ``reject_by_annotation`` argument. Smoothing can be performed on the\noutput sequence by setting the ``factor`` argument ``> 0`` (no smoothing by\ndefault ``factor=0``) while the ``half_window_size`` parameter is used to\nspecify the smoothing temporal span. Finally, the ``reject_edges`` argument\nallows not to assign the first and last segment of each record (or each\nepoch) as these can be incomplete. It should have little impact for raw, but\ncan be important when working with epochs.\n\n"
      ]
    },
    {
      "cell_type": "code",
      "execution_count": null,
      "metadata": {
        "collapsed": false
      },
      "outputs": [],
      "source": [
        "segmentation = ModK.predict(raw, reject_by_annotation=True, factor=10,\n                            half_window_size=10, min_segment_length=5,\n                            reject_edges=True)\nsegmentation.plot(tmin=1, tmax=5)"
      ]
    }
  ],
  "metadata": {
    "kernelspec": {
      "display_name": "Python 3",
      "language": "python",
      "name": "python3"
    },
    "language_info": {
      "codemirror_mode": {
        "name": "ipython",
        "version": 3
      },
      "file_extension": ".py",
      "mimetype": "text/x-python",
      "name": "python",
      "nbconvert_exporter": "python",
      "pygments_lexer": "ipython3",
      "version": "3.8.6"
    }
  },
  "nbformat": 4,
  "nbformat_minor": 0
}