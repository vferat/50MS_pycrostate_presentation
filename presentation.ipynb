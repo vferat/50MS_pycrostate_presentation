{
  "cells": [
    {
      "cell_type": "code",
      "execution_count": null,
      "metadata": {
        "collapsed": false
      },
      "outputs": [],
      "source": [
        "%matplotlib inline"
      ]
    },
    {
      "cell_type": "markdown",
      "metadata": {},
      "source": [
        "\n",
        "# The ModKmeans object\n",
        "\n",
        "This tutorial introduces the :class:`pycrostates.clustering.ModKMeans`\n",
        "structure in detail.\n"
      ]
    },
    {
      "cell_type": "code",
      "execution_count": null,
      "metadata": {
        "collapsed": false
      },
      "outputs": [],
      "source": [
        "from mne.io import read_raw_eeglab\n",
        "\n",
        "from pycrostates.datasets import lemon\n",
        "\n",
        "\n",
        "raw_fname = lemon.data_path(subject_id='010017', condition='EC')\n",
        "raw = read_raw_eeglab(raw_fname, preload=True)\n",
        "raw.crop(0, 30)\n",
        "\n",
        "raw.pick('eeg')\n",
        "raw.set_eeg_reference('average')"
      ]
    },
    {
      "cell_type": "markdown",
      "metadata": {},
      "source": [
        "The modified Kmeans can be instantiated with the number of cluster centers\n",
        "``n_clusters`` to compute.\n",
        "A random_state can be defined during class definition in order to have\n",
        "reproducible results.\n",
        "\n"
      ]
    },
    {
      "cell_type": "code",
      "execution_count": null,
      "metadata": {
        "collapsed": false
      },
      "outputs": [],
      "source": [
        "from pycrostates.cluster import ModKMeans\n",
        "\n",
        "n_clusters = 5\n",
        "ModK = ModKMeans(n_clusters=n_clusters, random_state=42)"
      ]
    },
    {
      "cell_type": "markdown",
      "metadata": {},
      "source": [
        "Most methods need the modified Kmeans to be fitted. This can be done with\n",
        "either `mne.io.Raw` or `mne.epochs.Epochs` data structures.\n",
        "Note that, depending on your setup, you can change ``n_jobs=1`` in order to\n",
        "use parallel processing and reduce computation time.\n",
        "\n"
      ]
    },
    {
      "cell_type": "code",
      "execution_count": null,
      "metadata": {
        "collapsed": false
      },
      "outputs": [],
      "source": [
        "ModK.fit(raw, n_jobs=5)"
      ]
    },
    {
      "cell_type": "markdown",
      "metadata": {},
      "source": [
        "Now that our algorithm is fitted, we can visualize the cluster centers, also\n",
        "called microstate maps or microstate topographies using `ModK.plot`.\n",
        "Note than this method uses the `~mne.Info` object of the fitted\n",
        "instance to display the topographies.\n",
        "\n"
      ]
    },
    {
      "cell_type": "code",
      "execution_count": null,
      "metadata": {
        "collapsed": false
      },
      "outputs": [],
      "source": [
        "ModK.plot()"
      ]
    },
    {
      "cell_type": "markdown",
      "metadata": {},
      "source": [
        "One can access the cluster centers as a numpy array thanks to the\n",
        "``cluster_centers_`` attribute:\n",
        "\n"
      ]
    },
    {
      "cell_type": "code",
      "execution_count": null,
      "metadata": {
        "collapsed": false
      },
      "outputs": [],
      "source": [
        "ModK.cluster_centers_"
      ]
    },
    {
      "cell_type": "markdown",
      "metadata": {},
      "source": [
        "Clusters centers can be reordered using `ModK.reorder_clusters`:\n",
        "\n"
      ]
    },
    {
      "cell_type": "code",
      "execution_count": null,
      "metadata": {
        "collapsed": false
      },
      "outputs": [],
      "source": [
        "ModK.reorder_clusters(order=[3, 2, 4, 0, 1])\n",
        "ModK.plot()"
      ]
    },
    {
      "cell_type": "markdown",
      "metadata": {},
      "source": [
        "and renamed using `ModK.rename_clusters`:\n",
        "\n"
      ]
    },
    {
      "cell_type": "code",
      "execution_count": null,
      "metadata": {
        "collapsed": false
      },
      "outputs": [],
      "source": [
        "ModK.rename_clusters(new_names=['A', 'B', 'C', 'D', 'F'])\n",
        "ModK.plot()"
      ]
    },
    {
      "cell_type": "markdown",
      "metadata": {},
      "source": [
        "Maps polarities can be inverted thanks to `ModK.invert_polarity`\n",
        "method. Note that it only affects visualization, it has not effect during\n",
        "backfitting as polarities are ignored.\n",
        "\n"
      ]
    },
    {
      "cell_type": "code",
      "execution_count": null,
      "metadata": {
        "collapsed": false
      },
      "outputs": [],
      "source": [
        "ModK.invert_polarity([False, False, True, True, False])\n",
        "ModK.plot()"
      ]
    },
    {
      "cell_type": "markdown",
      "metadata": {},
      "source": [
        "Finally, the modified Kmeans can be used to predict the microstates\n",
        "segmentation using the `ModK.predict` method. By default, segments\n",
        "annotated as bad will not be labeled, but this behavior can be changed with\n",
        "the ``reject_by_annotation`` argument. Smoothing can be performed on the\n",
        "output sequence by setting the ``factor`` argument ``> 0`` (no smoothing by\n",
        "default ``factor=0``) while the ``half_window_size`` parameter is used to\n",
        "specify the smoothing temporal span. Finally, the ``reject_edges`` argument\n",
        "allows not to assign the first and last segment of each record (or each\n",
        "epoch) as these can be incomplete. It should have little impact for raw, but\n",
        "can be important when working with epochs.\n",
        "\n"
      ]
    },
    {
      "cell_type": "code",
      "execution_count": null,
      "metadata": {
        "collapsed": false
      },
      "outputs": [],
      "source": [
        "segmentation = ModK.predict(raw, reject_by_annotation=True, factor=10,\n",
        "                            half_window_size=10, min_segment_length=5,\n",
        "                            reject_edges=True)\n",
        "segmentation.plot(tmin=1, tmax=5)"
      ]
    }
  ],
  "metadata": {
    "kernelspec": {
      "display_name": "Python 3",
      "language": "python",
      "name": "python3"
    },
    "language_info": {
      "codemirror_mode": {
        "name": "ipython",
        "version": 3
      },
      "file_extension": ".py",
      "mimetype": "text/x-python",
      "name": "python",
      "nbconvert_exporter": "python",
      "pygments_lexer": "ipython3",
      "version": "3.8.6"
    }
  },
  "nbformat": 4,
  "nbformat_minor": 0
}
